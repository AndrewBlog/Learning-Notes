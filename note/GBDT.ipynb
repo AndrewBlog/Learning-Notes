{
 "cells": [
  {
   "cell_type": "markdown",
   "metadata": {},
   "source": [
    "# 背景"
   ]
  },
  {
   "cell_type": "markdown",
   "metadata": {},
   "source": [
    "因为研究需要用到GBDT，所以复习（预习）总结一篇笔记。GBDT是Gradient Boosting Decision Tree的缩写，即梯度提升决策树，它本质上是一种Boosting方法，之所以在此处提到它是一种Boosting方法是因为有另一种Bagging方法与之对应。"
   ]
  },
  {
   "cell_type": "markdown",
   "metadata": {},
   "source": [
    "# Decision Tree"
   ]
  },
  {
   "cell_type": "markdown",
   "metadata": {},
   "source": [
    "首先快速介绍一下决策树，决策树有很多种实现，例如ID3、CART等等。无论是分类问题还是回归问题，不论采用哪种模型，我们本质上都是希望经验或者结构风险最小化。决策树是一种树模型，与基于反向传播算法更新各层神经元权重的神经网络模型不同，决策树有一套独特的逻辑来做到这一点。"
   ]
  },
  {
   "cell_type": "markdown",
   "metadata": {},
   "source": [
    "### CART"
   ]
  },
  {
   "cell_type": "markdown",
   "metadata": {},
   "source": [
    "以CART算法为例，简要的介绍一下一颗决策树是如何构建的。对于分类问题，CART希望最小化GINI值，对于回归问题，CART希望最小化均方差，当然对于具体问题，这些默认的损失函数仍然是可以被自定义的。"
   ]
  },
  {
   "cell_type": "markdown",
   "metadata": {},
   "source": [
    "# Boosting Decision Tree"
   ]
  },
  {
   "cell_type": "markdown",
   "metadata": {},
   "source": []
  },
  {
   "cell_type": "markdown",
   "metadata": {},
   "source": [
    "# Gradient Boosting Decision Tree"
   ]
  },
  {
   "cell_type": "markdown",
   "metadata": {},
   "source": []
  }
 ],
 "metadata": {
  "kernelspec": {
   "display_name": "Python 2",
   "language": "python",
   "name": "python2"
  },
  "language_info": {
   "codemirror_mode": {
    "name": "ipython",
    "version": 2
   },
   "file_extension": ".py",
   "mimetype": "text/x-python",
   "name": "python",
   "nbconvert_exporter": "python",
   "pygments_lexer": "ipython2",
   "version": "2.7.10"
  }
 },
 "nbformat": 4,
 "nbformat_minor": 2
}
