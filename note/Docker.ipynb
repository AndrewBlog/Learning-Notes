{
 "cells": [
  {
   "cell_type": "markdown",
   "metadata": {},
   "source": [
    "## 背景"
   ]
  },
  {
   "cell_type": "markdown",
   "metadata": {},
   "source": [
    "本篇文章将以基于TensorFlow的模型的训练与部署的具体场景为例，总结Docker的基本原理、安装、镜像制作、容器部署等。事实上，在学校实验室和自己的开源项目推进Docker使用已经快1年了，这篇文章之所以现在才开始写，纯粹是拖延症的问题。"
   ]
  },
  {
   "cell_type": "markdown",
   "metadata": {},
   "source": [
    "## 重要概念"
   ]
  },
  {
   "cell_type": "markdown",
   "metadata": {},
   "source": [
    "首先引用百度百科的定义：\n",
    "\n",
    "> Docker 是一个开源的应用容器引擎，让开发者可以打包他们的应用以及依赖包到一个可移植的容器中，然后发布到任何流行的 Linux 机器上，也可以实现虚拟化。容器是完全使用沙箱机制，相互之间不会有任何接口。     \n",
    "\n",
    "其次是官网的定义：\n",
    "> Docker is a platform for developers and sysadmins to develop, deploy, and run applications with containers. \n",
    "\n",
    "其实百度百科的总结已经足够好了，更概括地，Docker是一个轻量级虚拟机制作、分发、部署工具。需要注意的是，在本篇文章并不会对Docker的核心技术及其实现做深入地讨论，我们仅仅会简单地介绍它的基本概念。\n",
    "\n",
    "Docker有两个非常重要的概念，他们分别是镜像（image）与容器（container），直观地，我们可以直接将容器类比为虚拟机，这个虚拟机可能是正在运行的，也可能是已经停止的，而镜像则是像配置文件一样定义了这些虚拟机如何运行。\n",
    "\n",
    "而事实上事情要比上面的例子复杂很多，镜像的本质一个文件系统：\n",
    "> 在计算机中，文件系统（File System）是命名文件及放置文件的逻辑存储和恢复的系统。  \n",
    "\n",
    "Overlay原理暂定。"
   ]
  },
  {
   "cell_type": "markdown",
   "metadata": {},
   "source": [
    "## 安装docker与nvidia-docker"
   ]
  },
  {
   "cell_type": "markdown",
   "metadata": {},
   "source": [
    "首先，请以官网教程安装docker：\n",
    "> [How to install docker on Ubuntu](https://docs.docker.com/install/linux/docker-ce/ubuntu/#install-docker-ce-1)      \n",
    "\n",
    "如果你打算制作或者使用涉及到cuda或者cuddn等与GPU相关的镜像或容器，你需要安装nvidia-docker，请按照repo里的步骤安装nvidia-docker：\n",
    "> [How to install nvidia-docker on Ubuntu](https://github.com/NVIDIA/nvidia-docker)\n",
    "\n",
    "在完成两步安装后，需要更改docker守护进程默认的runtime参数，请将`/etc/docker/daemon.json`文件中键`default-runtime`对应的值修改为`nvidia`，然后通过`sudo service docker restart`重启docker服务，这一步操作是为了避免之后运行与cuda或者cudnn库相关的容器时每次都要指定`runtime`参数的情况。"
   ]
  },
  {
   "cell_type": "code",
   "execution_count": null,
   "metadata": {},
   "outputs": [],
   "source": []
  }
 ],
 "metadata": {
  "kernelspec": {
   "display_name": "Python 3",
   "language": "python",
   "name": "python3"
  },
  "language_info": {
   "codemirror_mode": {
    "name": "ipython",
    "version": 3
   },
   "file_extension": ".py",
   "mimetype": "text/x-python",
   "name": "python",
   "nbconvert_exporter": "python",
   "pygments_lexer": "ipython3",
   "version": "3.6.5"
  }
 },
 "nbformat": 4,
 "nbformat_minor": 2
}
