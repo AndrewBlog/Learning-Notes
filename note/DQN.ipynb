{
 "cells": [
  {
   "cell_type": "markdown",
   "metadata": {
    "collapsed": true
   },
   "source": [
    "# 问题设定"
   ]
  },
  {
   "cell_type": "markdown",
   "metadata": {},
   "source": [
    "在小车倒立杆（CartPole）游戏中，我们希望通过强化学习训练一个智能体（agent），尽可能不断地左右移动小车，使得小车上的杆不倒，我们首先定义CartPole游戏："
   ]
  },
  {
   "cell_type": "markdown",
   "metadata": {},
   "source": [
    "CartPole游戏即是强化学习模型的enviorment，它与agent交互，实时更新state，内部定义了reward function，其中state有以下定义："
   ]
  },
  {
   "cell_type": "markdown",
   "metadata": {},
   "source": [
    "state每一个维度分别代表了：\n",
    "\n",
    "- 小车位置，它的取值范围是-2.4到2.4\n",
    "- 小车速度，它的取值范围是负无穷到正无穷\n",
    "- 杆的角度，它的取值范围是-41.8°到41.8°\n",
    "- 杆的角速，它的取值范围是负无穷到正无穷"
   ]
  },
  {
   "cell_type": "markdown",
   "metadata": {},
   "source": [
    "action是一个2维向量，每一个维度分别代表向左和向右移动。"
   ]
  },
  {
   "cell_type": "markdown",
   "metadata": {},
   "source": [
    "$$\n",
    "action \\in \\mathbb{R}^2\n",
    "$$"
   ]
  },
  {
   "cell_type": "markdown",
   "metadata": {},
   "source": [
    "# DQN"
   ]
  },
  {
   "cell_type": "markdown",
   "metadata": {},
   "source": [
    "我们将设计一个网络，作为状态-动作值函数（state-action value function），其输入是state，输出是对应各个action的value，并TD（Temporal Difference）进行迭代训练直至收敛。我们将定义两个这样的网络，分别记作$\\theta$和$\\theta^-$，分别代表估计网络与目标网络。"
   ]
  },
  {
   "cell_type": "markdown",
   "metadata": {},
   "source": [
    "我们希望最小化："
   ]
  },
  {
   "cell_type": "markdown",
   "metadata": {},
   "source": [
    "$$\n",
    "\\left( y_j - Q \\left( \\phi_j, a_j; \\theta \\right) \\right)^2\n",
    "$$"
   ]
  },
  {
   "cell_type": "markdown",
   "metadata": {},
   "source": [
    "其中，$a_j$具有以下形式："
   ]
  },
  {
   "cell_type": "markdown",
   "metadata": {},
   "source": [
    "$$\n",
    "a_j = \\mathrm{argmax}_{a} Q \\left( \\phi(s_j), a; \\theta\\right)\n",
    "$$"
   ]
  },
  {
   "cell_type": "markdown",
   "metadata": {},
   "source": [
    "其中，$y_j$具有以下形式："
   ]
  },
  {
   "cell_type": "markdown",
   "metadata": {},
   "source": [
    "$$\n",
    "f(x)=\n",
    "\\begin{cases}\n",
    "r_j & \\text{if episode ends at j + 1}\\\\\n",
    "r_j + \\gamma \\max_{a^{\\prime}} \\hat{Q} \\left( \\phi_{j+1}, a^{\\prime}; \\theta^{-} \\right)& \\text{otherwise}\n",
    "\\end{cases}$$\n",
    "\n"
   ]
  },
  {
   "cell_type": "markdown",
   "metadata": {},
   "source": [
    "在最小化TD-Error时，我们将固定目标网络，只对估计网络做梯度反向传播，每次到达一定迭代次数后，将估计网络的权重复制到目标网络。在这个过程中，需要用到经验回放（Experience Replay）技术，即将每一次迭代观测到的$s_t, r_t, a_t, s_{t+1}$作为一个元组缓存，然后在这些缓存中随机抽取元组做批次梯度下降。"
   ]
  },
  {
   "cell_type": "markdown",
   "metadata": {},
   "source": [
    "# 代码实现"
   ]
  },
  {
   "cell_type": "code",
   "execution_count": 2,
   "metadata": {},
   "outputs": [
    {
     "name": "stderr",
     "output_type": "stream",
     "text": [
      "/Users/shuyu/anaconda3/envs/quant/lib/python3.5/importlib/_bootstrap.py:222: RuntimeWarning: compiletime version 3.6 of module 'tensorflow.python.framework.fast_tensor_util' does not match runtime version 3.5\n",
      "  return f(*args, **kwds)\n"
     ]
    }
   ],
   "source": [
    "# coding=utf-8\n",
    "\n",
    "import tensorflow as tf\n",
    "import numpy as np\n",
    "import gym\n",
    "import sys\n",
    "\n",
    "sys.path.append('..')\n",
    "\n",
    "from base.model import *\n",
    "\n",
    "%matplotlib inline"
   ]
  },
  {
   "cell_type": "code",
   "execution_count": 3,
   "metadata": {},
   "outputs": [],
   "source": [
    "class Agent(BaseRLModel):\n",
    "\n",
    "    def __init__(self, session, env, a_space, s_space, **options):\n",
    "        super(Agent, self).__init__(session, env, a_space, s_space, **options)\n",
    "\n",
    "        self._init_input()\n",
    "        self._init_nn()\n",
    "        self._init_op()\n",
    "        self._init_saver()\n",
    "\n",
    "        self.buffer = np.zeros((self.buffer_size, self.s_space + 1 + 1 + self.s_space))\n",
    "        self.buffer_count = 0\n",
    "\n",
    "        self.total_train_step = 0\n",
    "\n",
    "        self.update_target_net_step = 200\n",
    "\n",
    "        self.session.run(tf.global_variables_initializer())\n",
    "\n",
    "    def _init_input(self, *args):\n",
    "        with tf.variable_scope('input'):\n",
    "            self.s_n = tf.placeholder(tf.float32, [None, self.s_space])\n",
    "            self.s = tf.placeholder(tf.float32,   [None, self.s_space])\n",
    "            self.r = tf.placeholder(tf.float32,   [None, ])\n",
    "            self.a = tf.placeholder(tf.int32,     [None, ])\n",
    "\n",
    "    def _init_nn(self, *args):\n",
    "        with tf.variable_scope('actor_net'):\n",
    "            # w,b initializer\n",
    "            w_initializer = tf.random_normal_initializer(mean=0.0, stddev=0.3)\n",
    "            b_initializer = tf.constant_initializer(0.1)\n",
    "\n",
    "            with tf.variable_scope('predict_q_net'):\n",
    "                phi_state = tf.layers.dense(self.s,\n",
    "                                            32,\n",
    "                                            tf.nn.relu,\n",
    "                                            kernel_initializer=w_initializer,\n",
    "                                            bias_initializer=b_initializer)\n",
    "\n",
    "                self.q_predict = tf.layers.dense(phi_state,\n",
    "                                                 self.a_space,\n",
    "                                                 kernel_initializer=w_initializer,\n",
    "                                                 bias_initializer=b_initializer)\n",
    "\n",
    "            with tf.variable_scope('target_q_net'):\n",
    "                phi_state_next = tf.layers.dense(self.s_n,\n",
    "                                                 32,\n",
    "                                                 tf.nn.relu,\n",
    "                                                 kernel_initializer=w_initializer,\n",
    "                                                 bias_initializer=b_initializer)\n",
    "\n",
    "                self.q_target = tf.layers.dense(phi_state_next,\n",
    "                                                self.a_space,\n",
    "                                                kernel_initializer=w_initializer,\n",
    "                                                bias_initializer=b_initializer)\n",
    "\n",
    "    def _init_op(self):\n",
    "        with tf.variable_scope('q_real'):\n",
    "            # size of q_value_real is [BATCH_SIZE, 1]\n",
    "            max_q_value = tf.reduce_max(self.q_target, axis=1)\n",
    "            q_next = self.r + self.gamma * max_q_value\n",
    "            self.q_next = tf.stop_gradient(q_next)\n",
    "\n",
    "        with tf.variable_scope('q_predict'):\n",
    "            # size of q_value_predict is [BATCH_SIZE, 1]\n",
    "            action_indices = tf.stack([tf.range(tf.shape(self.a)[0], dtype=tf.int32), self.a], axis=1)\n",
    "            self.q_eval = tf.gather_nd(self.q_predict, action_indices)\n",
    "\n",
    "        with tf.variable_scope('loss'):\n",
    "            self.loss_func = tf.reduce_mean(tf.squared_difference(self.q_next, self.q_eval, name='mse'))\n",
    "\n",
    "        with tf.variable_scope('train'):\n",
    "            self.train_op = tf.train.AdamOptimizer(self.learning_rate).minimize(self.loss_func)\n",
    "\n",
    "        with tf.variable_scope('update_target_net'):\n",
    "            t_params = tf.get_collection(tf.GraphKeys.GLOBAL_VARIABLES, scope='target_q_net')\n",
    "            p_params = tf.get_collection(tf.GraphKeys.GLOBAL_VARIABLES, scope='predict_q_net')\n",
    "            self.update_q_net = [tf.assign(t, e) for t, e in zip(t_params, p_params)]\n",
    "\n",
    "    def predict(self, s):\n",
    "        if np.random.uniform() < self.epsilon:\n",
    "            a = np.argmax(self.session.run(self.q_predict, feed_dict={self.s: s[np.newaxis, :]}))\n",
    "        else:\n",
    "            a = np.random.randint(0, self.a_space)\n",
    "        return a\n",
    "\n",
    "    def snapshot(self, s, a, r, s_n):\n",
    "        self.buffer[self.buffer_count % self.buffer_size, :] = np.hstack((s, [a, r], s_n))\n",
    "        self.buffer_count += 1\n",
    "\n",
    "    def train(self):\n",
    "        if self.total_train_step % self.update_target_net_step == 0:\n",
    "            self.session.run(self.update_q_net)\n",
    "\n",
    "        batch = self.buffer[np.random.choice(self.buffer_size, size=self.batch_size), :]\n",
    "\n",
    "        s = batch[:, :self.s_space]\n",
    "        s_n = batch[:, -self.s_space:]\n",
    "        a = batch[:, self.s_space].reshape((-1))\n",
    "        r = batch[:, self.s_space + 1]\n",
    "\n",
    "        _, cost = self.session.run([self.train_op, self.loss_func], {\n",
    "            self.s: s, self.a: a, self.r: r, self.s_n: s_n\n",
    "        })\n",
    "\n",
    "    def run(self):\n",
    "        if self.mode == 'train':\n",
    "            for episode in range(self.train_episodes):\n",
    "                s, r_episode = self.env.reset(), 0\n",
    "                while True:\n",
    "                    # if episode > 400:\n",
    "                    #     self.env.render()\n",
    "                    a = self.predict(s)\n",
    "                    s_n, r, done, _ = self.env.step(a)\n",
    "                    if done:\n",
    "                        r = -5\n",
    "                    r_episode += r\n",
    "                    self.snapshot(s, a, r_episode, s_n)\n",
    "                    s = s_n\n",
    "                    if done:\n",
    "                        break\n",
    "                if self.buffer_count > self.buffer_size:\n",
    "                    self.train()\n",
    "                if episode % 200 == 0:\n",
    "                    self.logger.warning('Episode: {} | Rewards: {}'.format(episode, r_episode))\n",
    "                    self.save()\n",
    "        else:\n",
    "            for episode in range(self.eval_episodes):\n",
    "                s, r_episode = self.env.reset()\n",
    "                while True:\n",
    "                    a = self.predict(s)\n",
    "                    s_n, r, done, _ = self.env.step(a)\n",
    "                    r_episode += r\n",
    "                    s = s_n\n",
    "                    if done:\n",
    "                        break"
   ]
  },
  {
   "cell_type": "code",
   "execution_count": 4,
   "metadata": {},
   "outputs": [],
   "source": [
    "def main(_):\n",
    "    # Make env.\n",
    "    env = gym.make('CartPole-v0')\n",
    "    env.seed(1)\n",
    "    env = env.unwrapped\n",
    "    # Init session.\n",
    "    session = tf.Session()\n",
    "    # Init agent.\n",
    "    agent = Agent(session, env, env.action_space.n, env.observation_space.shape[0], **{\n",
    "        KEY_MODEL_NAME: 'DQN',\n",
    "        KEY_TRAIN_EPISODE: 3000\n",
    "    })\n",
    "    agent.run()\n"
   ]
  },
  {
   "cell_type": "code",
   "execution_count": null,
   "metadata": {},
   "outputs": [
    {
     "name": "stdout",
     "output_type": "stream",
     "text": [
      "\u001b[33mWARN: gym.spaces.Box autodetected dtype as <class 'numpy.float32'>. Please provide explicit dtype.\u001b[0m\n"
     ]
    },
    {
     "name": "stderr",
     "output_type": "stream",
     "text": [
      "Episode: 0 | Rewards: 3.0\n",
      "Episode: 200 | Rewards: 4.0\n",
      "Episode: 400 | Rewards: 4.0\n",
      "Episode: 600 | Rewards: 4.0\n",
      "Episode: 800 | Rewards: 3.0\n",
      "Episode: 1000 | Rewards: 3.0\n",
      "Episode: 1200 | Rewards: 36.0\n",
      "Episode: 1400 | Rewards: 50.0\n",
      "Episode: 1600 | Rewards: 31.0\n",
      "Episode: 1800 | Rewards: 187.0\n"
     ]
    }
   ],
   "source": [
    "main(_)"
   ]
  }
 ],
 "metadata": {
  "kernelspec": {
   "display_name": "Python 3",
   "language": "python",
   "name": "python3"
  },
  "language_info": {
   "codemirror_mode": {
    "name": "ipython",
    "version": 3
   },
   "file_extension": ".py",
   "mimetype": "text/x-python",
   "name": "python",
   "nbconvert_exporter": "python",
   "pygments_lexer": "ipython3",
   "version": "3.5.4"
  }
 },
 "nbformat": 4,
 "nbformat_minor": 1
}
