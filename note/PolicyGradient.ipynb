{
 "cells": [
  {
   "cell_type": "markdown",
   "metadata": {
    "collapsed": true
   },
   "source": [
    "# 问题设定"
   ]
  },
  {
   "cell_type": "markdown",
   "metadata": {},
   "source": [
    "在小车倒立杆（CartPole）游戏中，我们希望通过强化学习训练一个智能体（agent），尽可能不断地左右移动小车，使得小车上的杆不倒，我们首先定义CartPole游戏："
   ]
  },
  {
   "cell_type": "markdown",
   "metadata": {},
   "source": [
    "CartPole游戏即是强化学习模型的enviorment，它与agent交互，实时更新state，内部定义了reward function，其中state有以下定义："
   ]
  },
  {
   "cell_type": "markdown",
   "metadata": {},
   "source": [
    "$$\n",
    "state \\in \\mathbb{R}^4\n",
    "$$"
   ]
  },
  {
   "cell_type": "markdown",
   "metadata": {},
   "source": [
    "state每一个维度分别代表了：\n",
    "\n",
    "- 小车位置，它的取值范围是-2.4到2.4\n",
    "- 小车速度，它的取值范围是负无穷到正无穷\n",
    "- 杆的角度，它的取值范围是-41.8°到41.8°\n",
    "- 杆的角速，它的取值范围是负无穷到正无穷"
   ]
  },
  {
   "cell_type": "markdown",
   "metadata": {},
   "source": [
    "action是一个2维向量，每一个维度分别代表向左和向右移动。"
   ]
  },
  {
   "cell_type": "markdown",
   "metadata": {},
   "source": [
    "$$\n",
    "action \\in \\mathbb{R}^2\n",
    "$$"
   ]
  },
  {
   "cell_type": "markdown",
   "metadata": {},
   "source": [
    "小车每一次向左或向右移动都会加1分，这即是reward function，但是如果杆角度大于±12°、小车位置大于±2.4、行动次数大于200次，游戏将会结束。我们希望在游戏结束时得分尽可能大。"
   ]
  },
  {
   "cell_type": "markdown",
   "metadata": {},
   "source": [
    "# 策略梯度"
   ]
  },
  {
   "cell_type": "markdown",
   "metadata": {},
   "source": [
    "设计一个网络，其输入是state，输出是对应各个action的概率，并策略梯度（PolicyGradient）进行迭代训练。"
   ]
  },
  {
   "cell_type": "markdown",
   "metadata": {},
   "source": [
    "我们首先定义$\\tau$为一次回合的迹："
   ]
  },
  {
   "cell_type": "markdown",
   "metadata": {},
   "source": [
    "$$\n",
    "\\tau = \\{s_1, a_1, r_1, \\cdots, s_T, a_T, r_T \\} \\\\\n",
    "$$"
   ]
  },
  {
   "cell_type": "markdown",
   "metadata": {},
   "source": [
    "$R(\\tau)$是这次迹的奖励值之和："
   ]
  },
  {
   "cell_type": "markdown",
   "metadata": {},
   "source": [
    "$$\n",
    "R(\\tau) = \\sum^{T}_{t=1} r_t\n",
    "$$"
   ]
  },
  {
   "cell_type": "markdown",
   "metadata": {},
   "source": [
    "直观地，我们希望最大化："
   ]
  },
  {
   "cell_type": "markdown",
   "metadata": {},
   "source": [
    "$$\n",
    "\\bar{R}_{\\theta} = \\sum_{\\tau} R(\\tau) P(\\tau \\lvert \\theta) \\approx \\frac{1}{N} \\sum^{N}_{n=1} R(\\tau^{n})\n",
    "$$"
   ]
  },
  {
   "cell_type": "markdown",
   "metadata": {},
   "source": [
    "则首先对$\\bar{R}_{\\theta}$求梯度："
   ]
  },
  {
   "cell_type": "markdown",
   "metadata": {},
   "source": [
    "$$\n",
    "\\begin{align}\n",
    "\\nabla \\bar{R}_{\\theta} &= \\sum_{\\tau} R(\\tau) \\nabla P(\\tau \\lvert \\theta)  \\\\\n",
    "&= \\sum_{\\tau} R(\\tau) P(\\tau \\lvert \\theta) \\cdot \\frac{\\nabla P(\\tau \\lvert \\theta)}{P(\\tau \\lvert \\theta)} \\\\\n",
    "&= \\sum_{\\tau} R(\\tau) P(\\tau \\lvert \\theta) \\cdot \\nabla \\log P(\\tau \\lvert \\theta) \\\\\n",
    "&\\approx \\frac{1}{N} \\sum^{N}_{n=1} R(\\tau^n) \\cdot \\nabla \\log P(\\tau^n \\lvert \\theta) \n",
    "\\end{align}\n",
    "$$"
   ]
  },
  {
   "cell_type": "markdown",
   "metadata": {},
   "source": [
    "而对于$P(\\tau^n \\lvert \\theta)$，则可以展开成以下形式："
   ]
  },
  {
   "cell_type": "markdown",
   "metadata": {},
   "source": [
    "$$\n",
    "\\begin{align}\n",
    "p(\\tau^n \\lvert \\theta) &= p(s_1)p(a_1 \\lvert s_1, \\theta)p(r_1, s_2 \\lvert s_1, a_1)p(a_2 \\lvert s_2, \\theta) \\cdots p(a_t \\lvert s_t, \\theta)p(r_t, s_{t+1} \\lvert s_t, a_t) \\\\\n",
    "&= p(s_1) \\prod_{t} p(a_t \\lvert s_t, \\theta)p(r_t, s_{t+1} \\lvert s_t, a_t) \n",
    "\\end{align}\n",
    "$$"
   ]
  },
  {
   "cell_type": "markdown",
   "metadata": {},
   "source": [
    "将上式带入$\\log P(\\tau^n \\lvert \\theta)$中："
   ]
  },
  {
   "cell_type": "markdown",
   "metadata": {},
   "source": [
    "$$\n",
    "\\begin{align}\n",
    "\\nabla \\log P(\\tau^n \\lvert \\theta) &= \\nabla \\log \\left (p(s_1) \\prod_{t} p(a_t \\lvert s_t, \\theta)p(r_t, s_{t+1} \\lvert s_t, a_t) \\right) \\\\\n",
    "&= \\nabla \\log p(s_1) + \\sum^{T}_{t=1} \\nabla \\log p(a_t \\lvert s_t, \\theta) + \\sum^{T}_{t=1}  \\nabla p(r_t, s_{t+1} \\lvert s_t, a_t) \\\\\n",
    "&= \\sum^{T}_{t=1} \\nabla  \\log p(a_t \\lvert s_t, \\theta)\n",
    "\\end{align}\n",
    "$$"
   ]
  },
  {
   "cell_type": "markdown",
   "metadata": {},
   "source": [
    "最终$\\nabla \\bar{R}_{\\theta}$将改写为："
   ]
  },
  {
   "cell_type": "markdown",
   "metadata": {},
   "source": [
    "$$\n",
    "\\begin{align}\n",
    "\\nabla \\bar{R}_{\\theta} &\\approx \\frac{1}{N} \\sum^{1}_{N} R(\\tau^n) \\cdot \\nabla \\log P(\\tau^n \\lvert \\theta) \\\\\n",
    "&= \\frac{1}{N} \\sum^{N}_{n=1} R(\\tau^n) \\sum^{T_n}_{t=1} \\nabla  \\log p(a_t \\lvert s_t, \\theta) \\\\\n",
    "&= \\frac{1}{N} \\sum^{N}_{n=1} \\sum^{T_n}_{t=1} R(\\tau^n) \\nabla  \\log p(a_t \\lvert s_t, \\theta)\n",
    "\\end{align}\n",
    "$$"
   ]
  },
  {
   "cell_type": "markdown",
   "metadata": {},
   "source": [
    "本质上是最小化N回合采样出的action与网络输出的action的交叉熵的基础上乘以$R(\\tau^n)$："
   ]
  },
  {
   "cell_type": "markdown",
   "metadata": {},
   "source": [
    "$$\n",
    "- \\sum^{N}_{n=1} R(\\tau^n) \\cdot a_i \\log p_i\n",
    "$$"
   ]
  },
  {
   "cell_type": "markdown",
   "metadata": {},
   "source": [
    "需要注意的是，$R(\\tau^n)$对于不同的问题计算方式是不同的，在CartPole中，我们更关注回合开始时的奖励，因为他们直接影响了我们是否有机会进行更可能多的动作，所以在这个问题中，$R(\\tau^n)$是这样计算的："
   ]
  },
  {
   "cell_type": "markdown",
   "metadata": {},
   "source": [
    "```\n",
    "# Copy r_buffer\n",
    "r_buffer = self.r_buffer\n",
    "# Init r_tau\n",
    "r_tau = 0\n",
    "# Calculate r_tau\n",
    "for index in reversed(range(0, len(r_buffer))):\n",
    "    r_tau = r_tau * self.gamma + r_buffer[index]\n",
    "```"
   ]
  },
  {
   "cell_type": "markdown",
   "metadata": {},
   "source": [
    "# 代码实现"
   ]
  },
  {
   "cell_type": "markdown",
   "metadata": {},
   "source": [
    "首先导入必要包："
   ]
  },
  {
   "cell_type": "code",
   "execution_count": 4,
   "metadata": {},
   "outputs": [],
   "source": [
    "import tensorflow as tf\n",
    "import numpy as np\n",
    "import gym\n",
    "import sys\n",
    "\n",
    "sys.path.append('.')"
   ]
  },
  {
   "cell_type": "markdown",
   "metadata": {},
   "source": [
    "实现Agent类："
   ]
  },
  {
   "cell_type": "code",
   "execution_count": 15,
   "metadata": {},
   "outputs": [],
   "source": [
    "class Agent(object):\n",
    "\n",
    "    def __init__(self, a_space, s_space, **options):\n",
    "\n",
    "        self.session = tf.Session()\n",
    "\n",
    "        self.a_space, self.s_space = a_space, s_space\n",
    "\n",
    "        self.s_buffer, self.a_buffer, self.r_buffer = [], [], []\n",
    "\n",
    "        self._init_options(options)\n",
    "        self._init_input()\n",
    "        self._init_nn()\n",
    "        self._init_op()\n",
    "\n",
    "    def _init_input(self):\n",
    "        self.s = tf.placeholder(tf.float32, [None, self.s_space])\n",
    "        self.r = tf.placeholder(tf.float32, [None, ])\n",
    "        self.a = tf.placeholder(tf.int32, [None, ])\n",
    "\n",
    "    def _init_nn(self):\n",
    "        # Kernel init.\n",
    "        w_init = tf.random_normal_initializer(.0, .3)\n",
    "        # Dense 1.\n",
    "        dense_1 = tf.layers.dense(self.s,\n",
    "                                  32,\n",
    "                                  tf.nn.relu,\n",
    "                                  kernel_initializer=w_init)\n",
    "        # Dense 2.\n",
    "        dense_2 = tf.layers.dense(dense_1,\n",
    "                                  32,\n",
    "                                  tf.nn.relu,\n",
    "                                  kernel_initializer=w_init)\n",
    "        # Action logits.\n",
    "        self.a_logits = tf.layers.dense(dense_2,\n",
    "                                        self.a_space,\n",
    "                                        kernel_initializer=w_init)\n",
    "        # Action prob.\n",
    "        self.a_prob = tf.nn.softmax(self.a_logits)\n",
    "\n",
    "    def _init_op(self):\n",
    "        # One hot action.\n",
    "        action_one_hot = tf.one_hot(self.a, self.a_space)\n",
    "        # Calculate cross entropy.\n",
    "        cross_entropy = tf.nn.softmax_cross_entropy_with_logits(labels=action_one_hot, logits=self.a_logits)\n",
    "        self.loss_func = tf.reduce_mean(cross_entropy * self.r)\n",
    "        self.train_op = tf.train.AdamOptimizer(self.learning_rate).minimize(self.loss_func)\n",
    "        self.session.run(tf.global_variables_initializer())\n",
    "\n",
    "    def _init_options(self, options):\n",
    "\n",
    "        try:\n",
    "            self.learning_rate = options['learning_rate']\n",
    "        except KeyError:\n",
    "            self.learning_rate = 0.001\n",
    "\n",
    "        try:\n",
    "            self.gamma = options['gamma']\n",
    "        except KeyError:\n",
    "            self.gamma = 0.95\n",
    "\n",
    "    def predict(self, state):\n",
    "        action_prob = self.session.run(self.a_prob, feed_dict={self.s: state[np.newaxis, :]})\n",
    "        return np.random.choice(range(action_prob.shape[1]), p=action_prob.ravel())\n",
    "\n",
    "    def save_transition(self, state, action, reward):\n",
    "        self.s_buffer.append(state)\n",
    "        self.a_buffer.append(action)\n",
    "        self.r_buffer.append(reward)\n",
    "\n",
    "    def train(self):\n",
    "        # Copy r_buffer\n",
    "        r_buffer = self.r_buffer\n",
    "        # Init r_tau\n",
    "        r_tau = 0\n",
    "        # Calculate r_tau\n",
    "        for index in reversed(range(0, len(r_buffer))):\n",
    "            r_tau = r_tau * self.gamma + r_buffer[index]\n",
    "            self.r_buffer[index] = r_tau\n",
    "        # Minimize loss.\n",
    "        _, loss = self.session.run([self.train_op, self.loss_func], feed_dict={\n",
    "            self.s: self.s_buffer,\n",
    "            self.a: self.a_buffer,\n",
    "            self.r: self.r_buffer,\n",
    "        })\n",
    "\n",
    "        self.s_buffer, self.a_buffer, self.r_buffer = [], [], []"
   ]
  },
  {
   "cell_type": "markdown",
   "metadata": {},
   "source": [
    "# 实验结果"
   ]
  },
  {
   "cell_type": "markdown",
   "metadata": {},
   "source": [
    "通过`gym`初始化`CartPole`游戏环境并执行训练："
   ]
  },
  {
   "cell_type": "code",
   "execution_count": 13,
   "metadata": {},
   "outputs": [
    {
     "name": "stdout",
     "output_type": "stream",
     "text": [
      "\u001b[33mWARN: gym.spaces.Box autodetected dtype as <class 'numpy.float32'>. Please provide explicit dtype.\u001b[0m\n",
      "Episode: 0 | Reward is: 17.0\n",
      "Episode: 50 | Reward is: 71.0\n",
      "Episode: 100 | Reward is: 26.0\n",
      "Episode: 150 | Reward is: 50.0\n",
      "Episode: 200 | Reward is: 102.0\n",
      "Episode: 250 | Reward is: 194.0\n",
      "Episode: 300 | Reward is: 197.0\n",
      "Episode: 350 | Reward is: 71.0\n",
      "Episode: 400 | Reward is: 147.0\n",
      "Episode: 450 | Reward is: 182.0\n"
     ]
    }
   ],
   "source": [
    "import matplotlib.pyplot as plt\n",
    "\n",
    "%matplotlib inline\n",
    "\n",
    "env = gym.make('CartPole-v0')\n",
    "env.seed(1)\n",
    "env = env.unwrapped\n",
    "\n",
    "model = Agent(env.action_space.n, env.observation_space.shape[0])\n",
    "\n",
    "r_sum_list, r_episode_sum = [], None\n",
    "\n",
    "for episode in range(500):\n",
    "    # Reset env.\n",
    "    s, r_episode = env.reset(), 0\n",
    "    # Start episode.\n",
    "    while True:\n",
    "        # if episode > 80:\n",
    "        #     env.render()\n",
    "        # Predict action.\n",
    "        a = model.predict(s)\n",
    "        # Iteration.\n",
    "        s_n, r, done, _ = env.step(a)\n",
    "        if done:\n",
    "            r = -5\n",
    "        r_episode += r\n",
    "        # Save transition.\n",
    "        model.save_transition(s, a, r)\n",
    "        s = s_n\n",
    "        if done:\n",
    "            if r_episode_sum is None:\n",
    "                r_episode_sum = sum(model.r_buffer)\n",
    "            else:\n",
    "                r_episode_sum = r_episode_sum * 0.99 + sum(model.r_buffer) * 0.01\n",
    "            r_sum_list.append(r_episode_sum)\n",
    "            break\n",
    "    # Start train.\n",
    "    model.train()\n",
    "    if episode % 50 == 0:\n",
    "        print(\"Episode: {} | Reward is: {}\".format(episode, r_episode))"
   ]
  },
  {
   "cell_type": "markdown",
   "metadata": {},
   "source": [
    "最后绘制出回合与奖励函数的曲线："
   ]
  },
  {
   "cell_type": "code",
   "execution_count": 14,
   "metadata": {},
   "outputs": [
    {
     "data": {
      "image/png": "[encoded data removed]",
      "text/plain": [
       "<Figure size 432x288 with 1 Axes>"
      ]
     },
     "metadata": {},
     "output_type": "display_data"
    }
   ],
   "source": [
    "plt.plot(np.arange(len(r_sum_list)), r_sum_list)\n",
    "plt.title('Actor Only on CartPole')\n",
    "plt.xlabel('Episode')\n",
    "plt.ylabel('Total Reward')\n",
    "plt.show()"
   ]
  }
 ],
 "metadata": {
  "kernelspec": {
   "display_name": "Python 3",
   "language": "python",
   "name": "python3"
  },
  "language_info": {
   "codemirror_mode": {
    "name": "ipython",
    "version": 3
   },
   "file_extension": ".py",
   "mimetype": "text/x-python",
   "name": "python",
   "nbconvert_exporter": "python",
   "pygments_lexer": "ipython3",
   "version": "3.5.4"
  }
 },
 "nbformat": 4,
 "nbformat_minor": 1
}
