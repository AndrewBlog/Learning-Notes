{
 "cells": [
  {
   "cell_type": "markdown",
   "metadata": {
    "collapsed": true
   },
   "source": [
    "# Word2Vec"
   ]
  },
  {
   "cell_type": "markdown",
   "metadata": {},
   "source": [
    "## 问题设定"
   ]
  },
  {
   "cell_type": "markdown",
   "metadata": {},
   "source": [
    "对于One-hot的词向量："
   ]
  },
  {
   "cell_type": "markdown",
   "metadata": {},
   "source": [
    "$$\n",
    "\\begin{aligned}\n",
    "I &= [1, 0, 0] \\\\\n",
    "Like &= [0, 1, 0] \\\\\n",
    "Apple &= [0, 0, 1] \n",
    "\\end{aligned}\n",
    "$$"
   ]
  },
  {
   "cell_type": "markdown",
   "metadata": {},
   "source": [
    "无法通过两向量夹角余弦值计算其相似度，word2vec提供了Skip-Gram（跳字模型）与CBOW（连续词袋模型）两个词嵌入模型，通过这种模型训练出的词向量可以较好的表示出词之间的相似度。"
   ]
  },
  {
   "cell_type": "markdown",
   "metadata": {},
   "source": [
    "# Skip-Gram"
   ]
  },
  {
   "cell_type": "markdown",
   "metadata": {},
   "source": [
    "即跳字模型，其核心思想是对于一个上下文，设定一个大小为$m$的滑窗，在滑窗内选择$1$个中心词，预测滑窗内$m - 1$个背景词。即如果上下文是："
   ]
  },
  {
   "cell_type": "markdown",
   "metadata": {},
   "source": [
    "$$\n",
    "I\\  eat\\  apple\\  every\\  day\n",
    "$$"
   ]
  },
  {
   "cell_type": "markdown",
   "metadata": {},
   "source": [
    "对每一个词进行One-hot编码："
   ]
  },
  {
   "cell_type": "markdown",
   "metadata": {},
   "source": [
    "$$\n",
    "\\begin{aligned}\n",
    "I &= [1, 0, 0, 0, 0] \\\\ \n",
    "eat &= [0, 1, 0, 0, 0] \\\\\n",
    "apple &= [0, 0, 1, 0, 0] \\\\\n",
    "every &= [0, 0, 0, 1, 0] \\\\\n",
    "day &= [0, 0, 0, 0, 1]\n",
    "\\end{aligned}\n",
    "$$"
   ]
  },
  {
   "cell_type": "markdown",
   "metadata": {},
   "source": [
    "设定滑窗大小为$2$，如果选择中心词$apple$，那么将会有以下训练数据："
   ]
  },
  {
   "cell_type": "markdown",
   "metadata": {},
   "source": [
    "$$\n",
    "\\begin{aligned}\n",
    "x &= [0, 0, 1, 0, 0] \\\\ \n",
    "y &= [1, 0, 0, 0, 0], [0, 1, 0, 0, 0], [0, 0, 0, 1, 0], [0, 0, 0, 0, 1]\n",
    "\\end{aligned}\n",
    "$$"
   ]
  },
  {
   "cell_type": "markdown",
   "metadata": {},
   "source": [
    "设计一个只有1个输入层、1个隐藏层、1个输出层的神经网络，其中输出层的神经元个数等于输入层即等于One-hot编码的维度，而隐含层的神经元个数通常远小于输出层，比如One-hot维度如果是10000，隐含层可以只有300个神经元："
   ]
  },
  {
   "cell_type": "markdown",
   "metadata": {},
   "source": [
    "我们通过最大化似然函数："
   ]
  },
  {
   "cell_type": "markdown",
   "metadata": {},
   "source": [
    "$$\n",
    "\\prod^{N}_{i=1} \\prod_{-m <= j <= m} \\mathbb{P} \\left( w^{i+j} \\ \\lvert \\  w^i \\right)\n",
    "$$"
   ]
  },
  {
   "cell_type": "markdown",
   "metadata": {},
   "source": [
    "即对于上下文内所有的词，给定中心词$w^i$，预测滑窗内其他词，越准确越好。对上式取对数并展开："
   ]
  },
  {
   "cell_type": "markdown",
   "metadata": {},
   "source": [
    "$$\n",
    "\\begin{aligned}\n",
    "\\prod^{N}_{i=1} \\prod_{-m <= j <= m} \\mathbb{P} \\left( w^{i+j} \\ \\lvert \\  w^i \\right) &= \\sum^{N}_{i=1} \\sum_{-m <= j <= m} \\log \\mathbb{P} \\left( w^{i+j} \\ \\lvert \\  w^i \\right) \\\\\n",
    "&= \\sum^{N}_{i=1} \\sum_{-m <= j <= m} \\log \\left( \\frac{\\exp(\\mathrm{u^T_{i+j} \\cdot v_{i}} )}{ \\mathrm{\\sum^{N}_{k=1} \\exp(\\mathrm{u^T_{k} \\cdot v_{i}})}} \\right) \\\\\n",
    "\\end{aligned}\n",
    "$$"
   ]
  },
  {
   "cell_type": "markdown",
   "metadata": {},
   "source": [
    "其中，$\\mathrm{v_i}$即是隐藏层的权重，也是隐藏层的$z_i$，也是第i个词的词向量，$\\mathrm{u_{i+j}}$是输出层的权重，也是第i+j个词的词向量的另一个表达。最大化上式的最大似然函数，即最小化下式交叉熵："
   ]
  },
  {
   "cell_type": "markdown",
   "metadata": {},
   "source": [
    "$$\n",
    "- \\sum^{N}_{i=1} \\mathrm{y_i} \\cdot \\log \\mathrm{p_i}\n",
    "$$"
   ]
  },
  {
   "cell_type": "markdown",
   "metadata": {},
   "source": [
    "其中$\\mathrm{y_i}$与$\\mathrm{p_i}$是维度为词表长度的向量，分别代表观测值与计算值，对$\\mathrm{v_i}$求梯度有："
   ]
  },
  {
   "cell_type": "markdown",
   "metadata": {},
   "source": [
    "$$\n",
    "\\frac {\\partial \\log \\mathbb{P} \\left( w^{i+j} \\ \\lvert \\  w^i \\right)} {\\mathrm{v_i}} &= \n",
    "$$"
   ]
  },
  {
   "cell_type": "code",
   "execution_count": null,
   "metadata": {},
   "outputs": [],
   "source": []
  }
 ],
 "metadata": {
  "kernelspec": {
   "display_name": "Python 3",
   "language": "python",
   "name": "python3"
  },
  "language_info": {
   "codemirror_mode": {
    "name": "ipython",
    "version": 3
   },
   "file_extension": ".py",
   "mimetype": "text/x-python",
   "name": "python",
   "nbconvert_exporter": "python",
   "pygments_lexer": "ipython3",
   "version": "3.5.4"
  }
 },
 "nbformat": 4,
 "nbformat_minor": 1
}
