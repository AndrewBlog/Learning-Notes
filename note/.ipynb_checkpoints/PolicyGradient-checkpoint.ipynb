{
 "cells": [
  {
   "cell_type": "markdown",
   "metadata": {
    "collapsed": true
   },
   "source": [
    "# 问题设定"
   ]
  },
  {
   "cell_type": "markdown",
   "metadata": {},
   "source": [
    "在小车倒立杆（CartPole）游戏中，我们希望通过强化学习训练一个Agent，它接受一个4维向量state，分别代表：小车的位置、小车的速度、杆的角度、杆的角速度，输出一个2维向量a，代表向左和向右移动。小车每一次向左或向右移动都会加1分，但是如果杆的角度大于±12°、小车的位置大于±2.4、行动次数大于200次，游戏将会结束。我们希望在游戏结束时得分尽可能大。"
   ]
  },
  {
   "cell_type": "markdown",
   "metadata": {},
   "source": []
  },
  {
   "cell_type": "code",
   "execution_count": null,
   "metadata": {},
   "outputs": [],
   "source": []
  }
 ],
 "metadata": {
  "kernelspec": {
   "display_name": "Python 3",
   "language": "python",
   "name": "python3"
  },
  "language_info": {
   "codemirror_mode": {
    "name": "ipython",
    "version": 3
   },
   "file_extension": ".py",
   "mimetype": "text/x-python",
   "name": "python",
   "nbconvert_exporter": "python",
   "pygments_lexer": "ipython3",
   "version": "3.5.4"
  }
 },
 "nbformat": 4,
 "nbformat_minor": 1
}
