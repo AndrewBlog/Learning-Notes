{
 "cells": [
  {
   "cell_type": "markdown",
   "metadata": {},
   "source": [
    "# 人工神经网络"
   ]
  },
  {
   "cell_type": "markdown",
   "metadata": {},
   "source": [
    "## 问题设定"
   ]
  },
  {
   "cell_type": "markdown",
   "metadata": {},
   "source": [
    "考虑一个四分类问题，我们首先生成他们的图像如下图所示："
   ]
  },
  {
   "cell_type": "code",
   "execution_count": 4,
   "metadata": {},
   "outputs": [
    {
     "data": {
      "image/png": "[encoded data removed]",
      "text/plain": [
       "<Figure size 1152x648 with 1 Axes>"
      ]
     },
     "metadata": {},
     "output_type": "display_data"
    }
   ],
   "source": [
    "%matplotlib inline\n",
    "\n",
    "import matplotlib.pyplot as plt\n",
    "import numpy as np\n",
    "\n",
    "data_count = 25\n",
    "\n",
    "x1_points = np.linspace(0, 10, data_count).reshape((-1, 1))\n",
    "x2_points = np.multiply(2, x1_points) + np.random.randint(-10, 10, size=(data_count,)).reshape((-1, 1))\n",
    "\n",
    "x1 = np.concatenate((x1_points, x2_points), axis=1)\n",
    "y1 = np.array([[1, 0, 0, 0]] * data_count)\n",
    "\n",
    "x1_points = np.linspace(1, 10, data_count).reshape((-1, 1))\n",
    "x2_points = np.multiply(-2, x1_points) + np.random.randint(-10, 10, size=(data_count,)).reshape((-1, 1))\n",
    "\n",
    "x2 = np.concatenate((x1_points, x2_points), axis=1)\n",
    "y2 = np.array([[0, 1, 0, 0]] * data_count)\n",
    "\n",
    "x1_points = np.linspace(-1, -10, data_count).reshape((-1, 1))\n",
    "x2_points = np.multiply(2, x1_points) + np.random.randint(-10, 10, size=(data_count,)).reshape((-1, 1))\n",
    "\n",
    "x3 = np.concatenate((x1_points, x2_points), axis=1)\n",
    "y3 = np.array([[0, 0, 1, 0]] * data_count)\n",
    "\n",
    "x1_points = np.linspace(-1, -10, data_count).reshape((-1, 1))\n",
    "x2_points = np.multiply(-2, x1_points) + np.random.randint(-10, 10, size=(data_count,)).reshape((-1, 1))\n",
    "\n",
    "x4 = np.concatenate((x1_points, x2_points), axis=1)\n",
    "y4 = np.array([[0, 0, 0, 1]] * data_count)\n",
    "\n",
    "x_data = np.concatenate((x1, x2, x3, x4))\n",
    "y_data = np.concatenate((y1, y2, y3, y4))\n",
    "\n",
    "plt.figure(figsize=(16, 9))\n",
    "plt.scatter(x1[:, 0], x1[:, 1], marker='x')\n",
    "plt.scatter(x2[:, 0], x2[:, 1], marker='o')\n",
    "plt.scatter(x3[:, 0], x3[:, 1], marker='*')\n",
    "plt.scatter(x4[:, 0], x4[:, 1], marker='p')\n",
    "plt.show()"
   ]
  },
  {
   "cell_type": "markdown",
   "metadata": {},
   "source": [
    "对于数据集$X, Y$，$X$是一个$(N, 2)$维的数组，$Y$是一个经过One-Hot处理的$(N, 4)$维的数组，对于某一个$y_i$，它形如："
   ]
  },
  {
   "cell_type": "markdown",
   "metadata": {},
   "source": [
    "$$\n",
    "y_i = [0, 1, 0, 0]\n",
    "$$"
   ]
  },
  {
   "cell_type": "markdown",
   "metadata": {},
   "source": [
    "我们希望设计一个人工全连接神经网络，它具有多个隐含层，每个隐含层有多个神经元，在这个问题中，我们设定两个隐含层，每个隐含层有6个神经元。"
   ]
  },
  {
   "cell_type": "markdown",
   "metadata": {},
   "source": [
    "## Softmax Cross Entropy"
   ]
  },
  {
   "cell_type": "markdown",
   "metadata": {},
   "source": [
    "对于一个四分类问题，神经网络的输出层将有4个输出神经元，将这4个输出通过一个Softmax函数后计算交叉熵，我们可以写出如下损失函数："
   ]
  },
  {
   "cell_type": "markdown",
   "metadata": {},
   "source": [
    "$$\n",
    "SoftmaxCrossEntropy \\left( w^3_1, w^3_2, \\dots, w^2_1, w^2_2, \\dots, w^1_1, w^1_2, \\dots, w^1_{6} \\right) =  \\frac{1}{N} \\sum^{N}_{i=0} \\left( y_i \\cdot -\\ln (softmax(h(x^i_1, x^i_2) ) ) \\right)\n",
    "$$"
   ]
  },
  {
   "cell_type": "markdown",
   "metadata": {},
   "source": [
    "与线性回归与Logistic Regression直接求取各个权重的梯度不同，在神经网络中，使用反向传播算法求取梯度。"
   ]
  },
  {
   "cell_type": "markdown",
   "metadata": {},
   "source": [
    "## 反向传播"
   ]
  },
  {
   "cell_type": "markdown",
   "metadata": {},
   "source": [
    "我们设计的神经网络是具有一个输入层，两个隐含层，一个输出层的网络，考虑输出层第一个神经元的权重$w^3_{1, 1}$的梯度，我们将$softmax(h(x^i_1, x^i_2))$记作$s(h)$："
   ]
  },
  {
   "cell_type": "markdown",
   "metadata": {},
   "source": [
    "$$\n",
    "\\begin{aligned}\n",
    "\\frac{\\partial l(W)}{\\partial w^3_{1, 1}} &= \\frac{1}{N} \\sum^{N}_{i=0} \\left( \\frac{\\partial l(W)}{\\partial \\ln(s)} \\cdot \\frac{\\partial \\ln(s)}{\\partial s(a^3_1)} \\cdot \\frac{\\partial a^3_1}{\\partial w^3_{1, 1}} \\right) \\\\\n",
    "&= - \\frac{1}{N} \\sum^{N}_{i=0} \\frac{y_i \\cdot \\sum^{4}_{i=1}e^{a^3_i}}{e^{a^3_1}} \\cdot \\frac{e^{a^3_1} \\cdot \\sum^{4}_{i=1}e^{a^3_i} - \\left( e^{a^3_1} \\right )^2}{\\left (\\sum^{4}_{i=1}e^{a^3_i} \\right)^2} \\cdot z^3_1 \\\\ \n",
    "&= - \\frac{1}{N} \\sum^{N}_{i=0} y_i \\cdot \\frac{\\sum^{4}_{i=1}e^{a^3_i} - e^{a^3_1}}{\\sum^{4}_{i=1}e^{a^3_i}} \\cdot z^3_1\\\\ \n",
    "& = - \\frac{1}{N} \\sum^{N}_{i=0} y_i \\cdot (1 - s(a^3_1)) \\cdot z^3_1\n",
    "\\end{aligned}\n",
    "$$"
   ]
  },
  {
   "cell_type": "code",
   "execution_count": null,
   "metadata": {},
   "outputs": [],
   "source": []
  }
 ],
 "metadata": {
  "kernelspec": {
   "display_name": "Python 2",
   "language": "python",
   "name": "python2"
  },
  "language_info": {
   "codemirror_mode": {
    "name": "ipython",
    "version": 2
   },
   "file_extension": ".py",
   "mimetype": "text/x-python",
   "name": "python",
   "nbconvert_exporter": "python",
   "pygments_lexer": "ipython2",
   "version": "2.7.10"
  }
 },
 "nbformat": 4,
 "nbformat_minor": 2
}
