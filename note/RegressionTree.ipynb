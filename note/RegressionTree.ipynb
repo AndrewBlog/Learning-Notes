{
 "cells": [
  {
   "cell_type": "markdown",
   "metadata": {},
   "source": [
    "# 回归树"
   ]
  },
  {
   "cell_type": "markdown",
   "metadata": {},
   "source": [
    "## 背景"
   ]
  },
  {
   "cell_type": "markdown",
   "metadata": {},
   "source": [
    "CART是Classification And Regression Tree，这里以Regression Tree为例预习一下回归树。\n",
    "\n",
    "回归树，或者广义的决策树的工作原理与传统基于梯度下降迭代的Neural Network，或者直接求解析解的线性回归不太一样，它并不是通过某种线性或者非线性的映射，或者变换来进行预测，实现起来也比较反直觉，它的数据结构是一颗二叉树，详细的实现会在下文展示。\n",
    "\n",
    "但是它的目的和Linear Regression，Neural Network的目的是相同的，本质上都是希望经验风险或者结构风险最小化。\n",
    "\n",
    "以一个回归问题为例，Regression Tree的目的也是经验风险或者结构风险最小化，此处以最小化Mean Square Loss为例，当时此处的Loss Function是比较自由的，针对具体的学习任务，换成MAE，或者其他Make Sense的Loss Function也完全可以。"
   ]
  },
  {
   "cell_type": "markdown",
   "metadata": {},
   "source": [
    "## 数据"
   ]
  },
  {
   "cell_type": "markdown",
   "metadata": {},
   "source": [
    "首先我们先用几行代码生成一下数据。"
   ]
  },
  {
   "cell_type": "code",
   "execution_count": 3,
   "metadata": {},
   "outputs": [
    {
     "data": {
      "text/plain": [
       "<matplotlib.axes._subplots.AxesSubplot at 0x11781b9e8>"
      ]
     },
     "execution_count": 3,
     "metadata": {},
     "output_type": "execute_result"
    },
    {
     "data": {
      "image/png": "[encoded data removed]",
      "text/plain": [
       "<Figure size 864x504 with 1 Axes>"
      ]
     },
     "metadata": {},
     "output_type": "display_data"
    }
   ],
   "source": [
    "import numpy as np\n",
    "import pandas as pd \n",
    "import matplotlib.pyplot as plt\n",
    "\n",
    "%matplotlib inline\n",
    "\n",
    "x = np.linspace(-10, 10, 100).reshape((-1, 1))\n",
    "y = np.linspace(-20, 20, 100) + np.random.normal(loc=0, scale=3.5, size=(100, ))\n",
    "\n",
    "df = pd.DataFrame()\n",
    "df['x'] = x.reshape((-1, ))\n",
    "df['y'] = y\n",
    "\n",
    "df.plot.scatter(x='x', y='y', figsize=(12, 7))"
   ]
  },
  {
   "cell_type": "markdown",
   "metadata": {},
   "source": [
    "## 算法"
   ]
  },
  {
   "cell_type": "markdown",
   "metadata": {},
   "source": [
    "我们希望最小化："
   ]
  },
  {
   "cell_type": "markdown",
   "metadata": {},
   "source": [
    "$$\n",
    "\\frac{1}{N_1}\\sum (y_k - c_1)^2 + \\frac{1}{N_2}\\sum (y_2 - c_2)^2\n",
    "$$"
   ]
  },
  {
   "cell_type": "markdown",
   "metadata": {},
   "source": [
    "只是此处与Linear Regression直接求伪逆与Y的乘积，或者与通过梯度下降与反向传播迭代求解的Neural Network不同，Regression Tree通过以下算法最小化上式的Mean Square Error，具体方法会是这样的：\n",
    "\n",
    "对于一个Shape为$\\ N × M \\ $的数据集$X$，即N行M列的数据集$X$，依次逐列遍历逐行，对j列i行，计算下式："
   ]
  },
  {
   "cell_type": "markdown",
   "metadata": {},
   "source": [
    "$$ \n",
    "\\left\\{\n",
    "\\begin{aligned}\n",
    "c_1 &= \\frac{1}{N_1} \\sum y_{k, j} &  k \\in [0, i)\\\\\n",
    "c_2 &= \\frac{1}{N_2} \\sum y_{k, j} &  k \\in [i, N]\\\\\n",
    "\\end{aligned}\n",
    "\\right.\n",
    "$$"
   ]
  },
  {
   "cell_type": "markdown",
   "metadata": {},
   "source": [
    "可以看出c1, c2，是对于选定数据集i行j列作为“分割点”后，两个区间内Ground Truth的均值。计算完c1，c2后，将之带入损失函数，计算损失函数的值，并记录之，如果当前c1和c2代表的分割点i, j可以使得损失函数的值最小，那么将这个i, j记为最佳分割，并将数据集切分为$X_1$与$X_2$，构造一个节点（Node），该节点的阈值是$X_{i, j}$，树的深度自增，此时，如果树的深度（Max Depth）为1，那么算法就结束了。通常称这种深度非常浅的决策树（此处为回归树）为决策桩。\n",
    "\n",
    "这个决策桩将会是这样工作的，对于一个给定的输入向量x，如果它$x[j]$，即向量的第j个下标，小于$X_{i, j}$，那么输出c1，否则输出c2，当然，这样的模型性能是不够的，这个算法还将继续下去。\n",
    "\n",
    "之后的操作将会是这样的，对切分后的数据集$X_1$与$X_2$，分别重复以上寻找最佳分割（分裂）点的步骤，并切分数据集，直至达到我们设置的停止条件，如树的深度达到设置的最大深度，或者叶子数达到最大叶子数，或者直至数据集不可再次切分。\n",
    "\n",
    "这个过程中伴随着一颗二叉树的构造，这个构造通常是以深度优先来进行的，即在数据集，或者数据集的子区间完成寻找最佳分割点后，将构造一个树节点，这个节点通常维护了切分点的下标，以及计算出的c1与c2，以及两个孩子节点。详细的数据结构我们会在下文看到。"
   ]
  },
  {
   "cell_type": "markdown",
   "metadata": {},
   "source": [
    "## 实现"
   ]
  },
  {
   "cell_type": "markdown",
   "metadata": {},
   "source": [
    "这里以我们生成的数据为例，实现一个简单的回归树，首先我们定义树的结点数据结构："
   ]
  },
  {
   "cell_type": "code",
   "execution_count": 4,
   "metadata": {},
   "outputs": [],
   "source": [
    "class Node(object):\n",
    "    def __init__(self, i, j, c1, c2, l_node=None, r_node=None):\n",
    "        self.i = i\n",
    "        self.j = j\n",
    "        self.c1 = c1\n",
    "        self.c2 = c2\n",
    "        self.offset = 0\n",
    "        self.l_node = l_node\n",
    "        self.r_node = r_node"
   ]
  },
  {
   "cell_type": "markdown",
   "metadata": {},
   "source": [
    "可以看出没什么特别的，按照上文描述的，一个节点，维护了最佳切分点的下标，以及给定下标计算出的c1与c2，同时维护了一个下标i相对于原始数据集起始0的偏移，以及左右孩子节点。\n",
    "\n",
    "接下来我们实现回归树的类，用到了基本的递归生成二叉树与二叉树的先根遍历，这里不再赘述了，一些逻辑写在了注释里："
   ]
  },
  {
   "cell_type": "code",
   "execution_count": 14,
   "metadata": {},
   "outputs": [],
   "source": [
    "class Node(object):\n",
    "    def __init__(self, i, j, c1, c2, l_node=None, r_node=None):\n",
    "        self.i = i\n",
    "        self.j = j\n",
    "        self.c1 = c1\n",
    "        self.c2 = c2\n",
    "        self.offset = 0\n",
    "        self.l_node = l_node\n",
    "        self.r_node = r_node\n",
    "\n",
    "\n",
    "class RegressionTree(object):\n",
    "\n",
    "    def __init__(self):\n",
    "        self._tree = None\n",
    "        self.x_data = None\n",
    "        self.y_data = None\n",
    "        self.num_nodes = 0\n",
    "\n",
    "    def fit(self, x, y, max_depth=3):\n",
    "        self.x_data = x\n",
    "        self.y_data = y\n",
    "        # Calculate nodes.\n",
    "        self.num_nodes = 2 ** max_depth - 1\n",
    "        # Init root node.\n",
    "        root_node = self.make_node(x, y)\n",
    "\n",
    "        def _fit(_x, _y, _node):\n",
    "\n",
    "            if self.num_nodes <= 0:\n",
    "                return\n",
    "\n",
    "            # Make R.\n",
    "            x_r1, y_r1 = _x[:_node.i], _y[:_node.i]\n",
    "            x_r2, y_r2 = _x[_node.i:], _y[_node.i:]\n",
    "\n",
    "            # Make left node.\n",
    "            l_node = self.make_node(x_r1, y_r1)\n",
    "            _node.l_node = l_node\n",
    "\n",
    "            self.num_nodes -= 1\n",
    "\n",
    "            if _node.l_node:\n",
    "                # Update offset.\n",
    "                l_node.offset = _node.offset\n",
    "                _fit(x_r1, y_r1, _node.l_node)\n",
    "\n",
    "            # Make right node.\n",
    "            r_node = self.make_node(x_r2, y_r2)\n",
    "            _node.r_node = r_node\n",
    "\n",
    "            self.num_nodes -= 1\n",
    "\n",
    "            if _node.r_node:\n",
    "                # Update offset.\n",
    "                r_node.offset = _node.i + _node.offset\n",
    "                _fit(x_r2, y_r2, _node.r_node)\n",
    "\n",
    "        _fit(x, y, root_node)\n",
    "\n",
    "        self._tree = root_node\n",
    "\n",
    "    def predict(self, x):\n",
    "\n",
    "        node = self._tree\n",
    "\n",
    "        def _predict(_x, _node):\n",
    "\n",
    "            val = self.x_data[_node.i + _node.offset, _node.j]\n",
    "\n",
    "            if _x[_node.j] < val:\n",
    "                if _node.l_node:\n",
    "                    return _predict(_x, _node.l_node)\n",
    "                else:\n",
    "                    return _node.c1\n",
    "            else:\n",
    "                if _node.r_node:\n",
    "                    return _predict(_x, _node.r_node)\n",
    "                else:\n",
    "                    return _node.c2\n",
    "\n",
    "        return _predict(x, node)\n",
    "\n",
    "    @staticmethod\n",
    "    def make_node(x, y):\n",
    "        # Get shape.\n",
    "        rows, cols = x.shape\n",
    "        if rows <= 1:\n",
    "            return None\n",
    "        # Init params.\n",
    "        best_i, best_j = 1, 1\n",
    "        best_c1, best_c2 = 0, 0\n",
    "        best_loss = np.inf\n",
    "        # Find best split.\n",
    "        for i in range(1, rows):\n",
    "            for j in range(0, cols):\n",
    "                # Calculate c1, c2, loss.\n",
    "                c1 = np.mean(y[:i])\n",
    "                c2 = np.mean(y[i:])\n",
    "                loss = np.mean(y[:i] - c1) + np.mean(y[i:] - c2)\n",
    "                # Update best if need.\n",
    "                if loss < best_loss:\n",
    "                    best_loss = loss\n",
    "                    best_i = i\n",
    "                    best_j = j\n",
    "                    best_c1 = c1\n",
    "                best_c2 = c2\n",
    "        node = Node(best_i, best_j, best_c1, best_c2)\n",
    "        return node"
   ]
  },
  {
   "cell_type": "markdown",
   "metadata": {},
   "source": [
    "## 实验"
   ]
  },
  {
   "cell_type": "markdown",
   "metadata": {},
   "source": [
    "接下来我们对上文生成的数据以不同的最大深度（Max Depth）构造回归树，并检查它的拟合效果，需要注意的是，最大深度其实直接决定了叶子节点的个数，他们的关系会是这样的：\n",
    "\n",
    "$$\n",
    "Max\\ Leaves = 2^{Max\\ Depth} - 1\n",
    "$$\n",
    "\n",
    "然后，我们构造并拟合数据，设置`max_depth`从2到4，然后观察他们拟合的效果："
   ]
  },
  {
   "cell_type": "code",
   "execution_count": 19,
   "metadata": {},
   "outputs": [
    {
     "data": {
      "text/plain": [
       "Text(0,0.5,'y')"
      ]
     },
     "execution_count": 19,
     "metadata": {},
     "output_type": "execute_result"
    },
    {
     "data": {
      "image/png": "[encoded data removed]",
      "text/plain": [
       "<Figure size 864x504 with 1 Axes>"
      ]
     },
     "metadata": {},
     "output_type": "display_data"
    }
   ],
   "source": [
    "t = RegressionTree()\n",
    "\n",
    "df = pd.DataFrame()\n",
    "df['x'] = x.reshape((-1, ))\n",
    "df = df.set_index('x')\n",
    "    \n",
    "for max_depth in range(2, 8):\n",
    "    \n",
    "    t.fit(x, y, max_depth=max_depth)\n",
    "    \n",
    "    y_predict = [t.predict(x[i, :]) for i in range(0, 100)]\n",
    "    \n",
    "    df['MAX_DEPTH_{}'.format(max_depth)] = y_predict\n",
    "    \n",
    "plt.figure(figsize=(12, 7))\n",
    "plt.scatter(x, y, s=10, color='r')\n",
    "\n",
    "for max_depth in range(2, 8):\n",
    "    col_name = 'MAX_DEPTH_{}'.format(max_depth)\n",
    "    plt.plot(x, df[col_name], label=col_name)\n",
    "    \n",
    "plt.title('Regression Tree')\n",
    "plt.legend(loc='best')\n",
    "plt.xlabel('x')\n",
    "plt.ylabel('y')"
   ]
  },
  {
   "cell_type": "code",
   "execution_count": null,
   "metadata": {},
   "outputs": [],
   "source": []
  },
  {
   "cell_type": "code",
   "execution_count": null,
   "metadata": {},
   "outputs": [],
   "source": []
  }
 ],
 "metadata": {
  "kernelspec": {
   "display_name": "Python 3",
   "language": "python",
   "name": "python3"
  },
  "language_info": {
   "codemirror_mode": {
    "name": "ipython",
    "version": 3
   },
   "file_extension": ".py",
   "mimetype": "text/x-python",
   "name": "python",
   "nbconvert_exporter": "python",
   "pygments_lexer": "ipython3",
   "version": "3.5.4"
  }
 },
 "nbformat": 4,
 "nbformat_minor": 2
}
