{
 "cells": [
  {
   "cell_type": "markdown",
   "metadata": {},
   "source": [
    "# 人工神经网络"
   ]
  },
  {
   "cell_type": "markdown",
   "metadata": {},
   "source": [
    "## 问题设定"
   ]
  },
  {
   "cell_type": "markdown",
   "metadata": {},
   "source": [
    "考虑一个四分类问题，我们首先生成他们的图像如下图所示："
   ]
  },
  {
   "cell_type": "code",
   "execution_count": 5,
   "metadata": {},
   "outputs": [
    {
     "data": {
      "image/png": "[encoded data removed]",
      "text/plain": [
       "<Figure size 1152x648 with 1 Axes>"
      ]
     },
     "metadata": {},
     "output_type": "display_data"
    }
   ],
   "source": [
    "%matplotlib inline\n",
    "\n",
    "import matplotlib.pyplot as plt\n",
    "import numpy as np\n",
    "\n",
    "data_count = 25\n",
    "\n",
    "x1_points = np.linspace(0, 10, data_count).reshape((-1, 1))\n",
    "x2_points = np.multiply(2, x1_points) + np.random.randint(-10, 10, size=(data_count,)).reshape((-1, 1))\n",
    "\n",
    "x1 = np.concatenate((x1_points, x2_points), axis=1)\n",
    "y1 = np.array([[1, 0, 0, 0]] * data_count)\n",
    "\n",
    "x1_points = np.linspace(1, 10, data_count).reshape((-1, 1))\n",
    "x2_points = np.multiply(-2, x1_points) + np.random.randint(-10, 10, size=(data_count,)).reshape((-1, 1))\n",
    "\n",
    "x2 = np.concatenate((x1_points, x2_points), axis=1)\n",
    "y2 = np.array([[0, 1, 0, 0]] * data_count)\n",
    "\n",
    "x1_points = np.linspace(-1, -10, data_count).reshape((-1, 1))\n",
    "x2_points = np.multiply(2, x1_points) + np.random.randint(-10, 10, size=(data_count,)).reshape((-1, 1))\n",
    "\n",
    "x3 = np.concatenate((x1_points, x2_points), axis=1)\n",
    "y3 = np.array([[0, 0, 1, 0]] * data_count)\n",
    "\n",
    "x1_points = np.linspace(-1, -10, data_count).reshape((-1, 1))\n",
    "x2_points = np.multiply(-2, x1_points) + np.random.randint(-10, 10, size=(data_count,)).reshape((-1, 1))\n",
    "\n",
    "x4 = np.concatenate((x1_points, x2_points), axis=1)\n",
    "y4 = np.array([[0, 0, 0, 1]] * data_count)\n",
    "\n",
    "x_data = np.concatenate((x1, x2, x3, x4))\n",
    "y_data = np.concatenate((y1, y2, y3, y4))\n",
    "\n",
    "plt.figure(figsize=(16, 9))\n",
    "plt.scatter(x1[:, 0], x1[:, 1], marker='x')\n",
    "plt.scatter(x2[:, 0], x2[:, 1], marker='o')\n",
    "plt.scatter(x3[:, 0], x3[:, 1], marker='*')\n",
    "plt.scatter(x4[:, 0], x4[:, 1], marker='p')\n",
    "plt.show()"
   ]
  },
  {
   "cell_type": "markdown",
   "metadata": {},
   "source": [
    "对于数据集$X, Y$，$X$是一个$(N, 2)$维的数组，$Y$是一个经过独热处理（One-hot）的$(N, 4)$维的数组，对于某一个$y_i$，它形如："
   ]
  },
  {
   "cell_type": "markdown",
   "metadata": {},
   "source": [
    "$$\n",
    "y_i = [0, 1, 0, 0]\n",
    "$$"
   ]
  },
  {
   "cell_type": "markdown",
   "metadata": {},
   "source": [
    "我们希望设计一个人工全连接神经网络，它具有多个隐含层，每个隐含层有多个神经元，在这个问题中，我们设定两个隐含层，每个隐含层有6个神经元。"
   ]
  },
  {
   "cell_type": "markdown",
   "metadata": {},
   "source": [
    "## Softmax Cross Entropy"
   ]
  },
  {
   "cell_type": "markdown",
   "metadata": {},
   "source": [
    "对于一个四分类问题，神经网络的输出层将有4个输出神经元，将这4个输出通过一个Softmax函数后计算交叉熵，我们可以写出如下损失函数："
   ]
  },
  {
   "cell_type": "markdown",
   "metadata": {},
   "source": [
    "$$\n",
    "SoftmaxCrossEntropy \\left( w^3_{i, j}, w^2_{i, j}, w^1_{i, j} \\right) = \\sum^{N}_{i=0} \\left (\\sum^{4}_{j=1} y_j \\cdot - \\ln p(z_j) \\right)\n",
    "$$"
   ]
  },
  {
   "cell_type": "markdown",
   "metadata": {},
   "source": [
    "其中$p_j(z)$是Softmax函数："
   ]
  },
  {
   "cell_type": "markdown",
   "metadata": {},
   "source": [
    "$$\n",
    "p(z_j) = \\frac{e^{a^3_j}}{\\sum^{4}_{k=1}e^{a^3_k}}\n",
    "$$"
   ]
  },
  {
   "cell_type": "markdown",
   "metadata": {},
   "source": [
    "与线性回归与Logistic Regression直接求各个权重的梯度不同，在神经网络中，使用反向传播算法求梯度。"
   ]
  },
  {
   "cell_type": "markdown",
   "metadata": {},
   "source": [
    "## 反向传播"
   ]
  },
  {
   "cell_type": "markdown",
   "metadata": {},
   "source": [
    "我们设计的神经网络是具有一个输入层，两个隐含层，一个输出层的网络，考虑输出层的第一个神经元的权重$w^3_{1, 1}$的梯度，我们将Softmax记作$p(z)$："
   ]
  },
  {
   "cell_type": "markdown",
   "metadata": {},
   "source": [
    "$$\n",
    "\\begin{aligned}\n",
    "\\frac{\\partial l(W)}{\\partial w^3_{1, 1}} &= - \\sum^{N}_{i=0} \\left( \\sum^{4}_{j=1} \\frac{\\partial l(W)}{\\partial \\ln p} \\cdot \\frac{\\partial \\ln p}{\\partial a^3_j} \\cdot \\frac{\\partial a^3_j}{\\partial w^3_{1, 1}} \\right) \\\\\n",
    "&= - \\sum^{N}_{i=0} \\left( \\frac{y_1 \\cdot \\sum^{4}_{k=1}e^{a^3_k}}{e^{a^3_1}} \\cdot \\frac{e^{a^3_1} \\cdot \\sum^{4}_{k=1}e^{a^3_k} - \\left( e^{a^3_1} \\right )^2}{\\left (\\sum^{4}_{k=1}e^{a^3_k} \\right)^2} + \\sum^{4}_{j=2} \\frac{y_j \\cdot \\sum^{4}_{k=1}e^{a^3_k}}{e^{a^3_j}} \\cdot \\frac{0 - a^3_j \\cdot a^3_1}{(\\sum^{4}_{k=1} e^{a^3_k})^2} \\right)  \\cdot z^3_1  \\\\ \n",
    "&= - \\sum^{N}_{i=0} \\left( y_1 \\cdot (1 - \\frac{a^3_1}{\\sum^{4}_{k=1}e^{a^3_k}}) - \\sum^{4}_{j=2} y_j \\cdot \\frac{a^3_1}{\\sum^{4}_{k=1}e^{a^3_k}} \\right) \\cdot z^3_1  \\\\ \n",
    "&= - \\sum^{N}_{i=0} \\left( y_1 - (y_1 + y_2 + y_3 + y_4) \\cdot - \\frac{a^3_1}{\\sum^{4}_{k=1}e^{a^3_k}} \\right)  \\cdot z^3_1 \\\\ \n",
    "&= - \\sum^{N}_{i=0} \\left( y_1 - \\frac{a^3_1}{\\sum^{4}_{k=1}e^{a^3_k}} \\right) \\cdot z^3_1 \\\\ \n",
    "\\end{aligned}\n",
    "$$"
   ]
  },
  {
   "cell_type": "markdown",
   "metadata": {},
   "source": [
    "然后我们考虑第二个隐含层第一个神经元权重$w^2_{1, 1}$的梯度:"
   ]
  },
  {
   "cell_type": "markdown",
   "metadata": {},
   "source": [
    "$$\n",
    "\\sum^{4}_{i=1} \\left ( \\frac{\\partial l(W)}{\\partial \\ln p} \\cdot  \\frac{\\partial \\ln p}{\\partial z^3_i} \\cdot \\frac{\\partial z^3_i}{\\partial a^2_1} \\cdot \\frac{\\partial a^2_1}{\\partial z^2_1} \\right ) \\cdot \\frac{\\partial z^2_1}{\\partial w^2_{1, 1}}\n",
    "$$"
   ]
  },
  {
   "cell_type": "markdown",
   "metadata": {},
   "source": [
    "通过观察可以发现此项可以在计算输出的前向传播过程计算并缓存："
   ]
  },
  {
   "cell_type": "markdown",
   "metadata": {},
   "source": [
    "$$\n",
    "\\frac{\\partial a^2_1}{\\partial z^2_1} \\cdot \\frac{\\partial z^2_1}{\\partial w^2_{1, 1}}\n",
    "$$"
   ]
  },
  {
   "cell_type": "markdown",
   "metadata": {},
   "source": [
    "各层权重的更新是逆层序的，而在计算$w^2_{1, 1}$前，已经完成了关于$w^3_{i, j}$的计算，而项中："
   ]
  },
  {
   "cell_type": "markdown",
   "metadata": {},
   "source": [
    "$$\n",
    "\\sum^{4}_{i=1} \\left ( \\frac{\\partial l(W)}{\\partial \\ln p} \\cdot  \\frac{\\partial \\ln p}{\\partial z^3_i} \\cdot \\frac{\\partial z^3_i}{\\partial a^2_1} \\right )\n",
    "$$"
   ]
  },
  {
   "cell_type": "markdown",
   "metadata": {},
   "source": [
    "即是误差的反向传播项，这些项已经在上层的梯度计算中完成并缓存，故在更新本层权重时，直接提取缓存即可。"
   ]
  },
  {
   "cell_type": "markdown",
   "metadata": {},
   "source": [
    "一个支持：\n",
    "- 自定义隐含层数\n",
    "- 自定义神经元数量\n",
    "- 自定义每层激活函数（Sigmoid、tanh、ReLU、Linear）\n",
    "- 自定义损失函数（Softmax Cross Entropy、MSE）\n",
    "- 自定义超参数（学习率、迭代次数、Batch Size）\n",
    "- 模型的本地化   \n",
    "\n",
    "的低效率的模型被实现：\n",
    "[Artifical Neuron Network (ANN)](https://github.com/Ceruleanacg/Descent/blob/master/nn/dense.py)\n",
    "，我们将直接使用这个模型模拟实验结果。"
   ]
  },
  {
   "cell_type": "code",
   "execution_count": 6,
   "metadata": {},
   "outputs": [
    {
     "name": "stderr",
     "output_type": "stream",
     "text": [
      "Model saved.\n",
      "Accuracy: 0.390 \n",
      "Epoch: 0 | loss: 138.629275\n",
      "Model saved.\n",
      "Accuracy: 0.610 \n",
      "Epoch: 100 | loss: 127.327139\n",
      "Model saved.\n",
      "Accuracy: 0.860 \n",
      "Epoch: 200 | loss: 103.538487\n",
      "Model saved.\n",
      "Accuracy: 0.710 \n",
      "Epoch: 300 | loss: 96.939174\n",
      "Model saved.\n",
      "Accuracy: 0.920 \n",
      "Epoch: 400 | loss: 92.262520\n",
      "Model saved.\n",
      "Accuracy: 0.910 \n",
      "Epoch: 500 | loss: 92.282685\n",
      "Model saved.\n",
      "Accuracy: 0.910 \n",
      "Epoch: 600 | loss: 92.112034\n",
      "Model saved.\n",
      "Accuracy: 0.910 \n",
      "Epoch: 700 | loss: 91.908351\n",
      "Model saved.\n",
      "Accuracy: 0.910 \n",
      "Epoch: 800 | loss: 91.895093\n",
      "Model saved.\n",
      "Accuracy: 0.910 \n",
      "Epoch: 900 | loss: 91.658254\n"
     ]
    }
   ],
   "source": [
    "import sys\n",
    "\n",
    "sys.path.append('../')\n",
    "\n",
    "from sklearn.preprocessing import StandardScaler\n",
    "from utility import function\n",
    "from nn.dense import Dense\n",
    "\n",
    "x_train = StandardScaler().fit_transform(x_data)\n",
    "y_train = y_data\n",
    "\n",
    "activation_funcs = [function.relu] * 2\n",
    "# activation_funcs = [function.sigmoid] * 1\n",
    "activation_funcs.append(function.linear)\n",
    "\n",
    "dense = Dense(x_space=2, y_space=4, hidden_units_list=[6, 6], **{\n",
    "    \"loss_func\": function.softmax_cross_entropy,\n",
    "    \"activation_funcs\": activation_funcs,\n",
    "    \"learning_rate\": 0.003,\n",
    "    \"enable_logger\": True,\n",
    "    \"model_name\": 'base',\n",
    "    \"batch_size\": 100,\n",
    "    \"max_epoch\": 1000,\n",
    "    'model': 'train',\n",
    "})\n",
    "\n",
    "dense.train(x_data, y_data)"
   ]
  },
  {
   "cell_type": "markdown",
   "metadata": {},
   "source": [
    "我们绘制出分类器的结果："
   ]
  },
  {
   "cell_type": "code",
   "execution_count": 8,
   "metadata": {},
   "outputs": [
    {
     "name": "stderr",
     "output_type": "stream",
     "text": [
      "Accuracy: 0.920 \n"
     ]
    },
    {
     "data": {
      "image/png": "[encoded data removed]",
      "text/plain": [
       "<Figure size 1152x648 with 1 Axes>"
      ]
     },
     "metadata": {},
     "output_type": "display_data"
    }
   ],
   "source": [
    "dense.evaluate(x_data, y_data)\n",
    "\n",
    "x1_test = np.linspace(-20, 20, 300)\n",
    "x2_test = np.linspace(-30, 30, 300)\n",
    "\n",
    "x1_mesh, x2_mesh = np.meshgrid(x1_test, x2_test)\n",
    "\n",
    "x_test = np.array([x1_mesh.ravel(), x2_mesh.ravel()]).T\n",
    "y_test = np.argmax(dense.predict(x_test), axis=1)\n",
    "\n",
    "plt.figure(figsize=(16, 9))\n",
    "plt.pcolormesh(x1_mesh, x2_mesh, y_test.reshape(x1_mesh.shape))\n",
    "plt.scatter(x1[:, 0], x1[:, 1], marker='x')\n",
    "plt.scatter(x2[:, 0], x2[:, 1], marker='o')\n",
    "plt.scatter(x3[:, 0], x3[:, 1], marker='*')\n",
    "plt.scatter(x4[:, 0], x4[:, 1], marker='p')\n",
    "plt.show()"
   ]
  },
  {
   "cell_type": "code",
   "execution_count": null,
   "metadata": {},
   "outputs": [],
   "source": []
  }
 ],
 "metadata": {
  "kernelspec": {
   "display_name": "Python 3",
   "language": "python",
   "name": "python3"
  },
  "language_info": {
   "codemirror_mode": {
    "name": "ipython",
    "version": 3
   },
   "file_extension": ".py",
   "mimetype": "text/x-python",
   "name": "python",
   "nbconvert_exporter": "python",
   "pygments_lexer": "ipython3",
   "version": "3.6.4"
  }
 },
 "nbformat": 4,
 "nbformat_minor": 2
}
